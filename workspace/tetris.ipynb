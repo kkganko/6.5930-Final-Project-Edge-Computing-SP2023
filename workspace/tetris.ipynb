{
 "cells": [
  {
   "cell_type": "code",
   "execution_count": null,
   "id": "e23cc1d2",
   "metadata": {},
   "outputs": [],
   "source": [
    "import pandas as pd\n",
    "import numpy as np\n",
    "from loaders import *"
   ]
  },
  {
   "cell_type": "markdown",
   "id": "eae50241",
   "metadata": {},
   "source": [
    "# TETRIS arch and mapping: with and without accumulation at DRAM"
   ]
  },
  {
   "cell_type": "code",
   "execution_count": null,
   "id": "037eac4e",
   "metadata": {
    "scrolled": true
   },
   "outputs": [],
   "source": [
    "show_config(ConfigRegistry.TETRIS_ARCH_DRAM_RED)\n",
    "show_config(ConfigRegistry.TETRIS_COMPONENTS_DIR)\n",
    "result = run_accelergy(ConfigRegistry.TETRIS_ARCH_DRAM_RED, ConfigRegistry.TETRIS_COMPONENTS_DIR)\n",
    "print(result.ert)"
   ]
  },
  {
   "cell_type": "code",
   "execution_count": null,
   "id": "7007b840",
   "metadata": {},
   "outputs": [],
   "source": [
    "show_config(ConfigRegistry.TETRIS_ARCH_NO_DRAM_RED)\n",
    "show_config(ConfigRegistry.TETRIS_COMPONENTS_DIR)\n",
    "result = run_accelergy(ConfigRegistry.TETRIS_ARCH_NO_DRAM_RED, ConfigRegistry.TETRIS_COMPONENTS_DIR)\n",
    "print(result.ert)"
   ]
  },
  {
   "cell_type": "code",
   "execution_count": null,
   "id": "ad2c77d9",
   "metadata": {},
   "outputs": [],
   "source": [
    "def parse_stat(layer_stat):\n",
    "    \"\"\"\n",
    "    Total number of compute in this layer\n",
    "    Number of cycles in this layer\n",
    "    Energy used in this layer in Joule\n",
    "    Energy / Compute in picoJoule\n",
    "    \"\"\"\n",
    "    lines = layer_stat.split(\"\\n\")\n",
    "    compute = int(lines[-18].split(\"=\")[-1].strip())\n",
    "    cycle = int(lines[-23].split(\":\")[-1].strip())\n",
    "    energy = float(lines[-22].split(\":\")[-1].strip()[:-3])\n",
    "    return compute, cycle, energy * 10**(-6), energy * 10**(-6)  / compute * 10**(12)"
   ]
  },
  {
   "cell_type": "markdown",
   "id": "6eb44b11",
   "metadata": {},
   "source": [
    "### Example layer"
   ]
  },
  {
   "cell_type": "code",
   "execution_count": null,
   "id": "27b56686",
   "metadata": {},
   "outputs": [],
   "source": [
    "example_layer_stats, example_layer_mapping = run_timeloop_mapper(\n",
    "    ConfigRegistry.TETRIS_ARCH_DRAM_RED, ConfigRegistry.TETRIS_COMPONENTS_DIR,\n",
    "    ConfigRegistry.TETRIS_ARCH_CONSTRAINTS,\n",
    "    ConfigRegistry.TETRIS_MAP_CONSTRAINTS,\n",
    "    ConfigRegistry.VGG02_layer5, ConfigRegistry.DEFAULT_MAPPER_SETTING\n",
    ")"
   ]
  },
  {
   "cell_type": "code",
   "execution_count": null,
   "id": "db1c813f",
   "metadata": {},
   "outputs": [],
   "source": [
    "parse_stat(example_layer_stats)"
   ]
  },
  {
   "cell_type": "markdown",
   "id": "8aec2181",
   "metadata": {},
   "source": [
    "### Squeeze Nets"
   ]
  },
  {
   "cell_type": "code",
   "execution_count": null,
   "id": "be62a0aa",
   "metadata": {},
   "outputs": [],
   "source": [
    "squeeze_layers = ConfigRegistry.SQUEEZE_NET_LAYERS\n",
    "squeeze_stat = []\n",
    "for i in range(len(squeeze_layers)):\n",
    "    layer_stats, layer_mapping = run_timeloop_mapper(\n",
    "        ConfigRegistry.TETRIS_ARCH_DRAM_RED, ConfigRegistry.TETRIS_COMPONENTS_DIR,\n",
    "        ConfigRegistry.TETRIS_ARCH_CONSTRAINTS,\n",
    "        ConfigRegistry.TETRIS_MAP_CONSTRAINTS,\n",
    "        squeeze_layers[i+1], ConfigRegistry.DEFAULT_MAPPER_SETTING\n",
    "    )\n",
    "    squeeze_stat.append(layer_stats)"
   ]
  },
  {
   "cell_type": "code",
   "execution_count": null,
   "id": "52da3932",
   "metadata": {},
   "outputs": [],
   "source": [
    "for stat in squeeze_stat:\n",
    "    compute, cycle, energy, energy_per_compute = parse_stat(stat)\n",
    "    squeeze_total_compute += compute\n",
    "    squeeze_total_cycle += cycle\n",
    "    squeeze_total_energy += energy\n",
    "\n",
    "print(f\"Squeeze Net Total Compute:\", squeeze_total_compute)\n",
    "print(f\"Squeeze Net Total Cycle:\", squeeze_total_cycle)\n",
    "print(f\"Squeeze Net Total Energy:\", squeeze_total_energy)\n",
    "print(f\"Squeeze Net Energy / Computer pJ / Compute\", squeeze_total_energy / squeeze_total_compute * 10 ** (12))"
   ]
  },
  {
   "cell_type": "markdown",
   "id": "d5a1ee07",
   "metadata": {},
   "source": [
    "### Mobile Nets"
   ]
  },
  {
   "cell_type": "code",
   "execution_count": null,
   "id": "36d42e7d",
   "metadata": {},
   "outputs": [],
   "source": [
    "mobile_layers = ConfigRegistry.MOBILE_NET_LAYERS\n",
    "mobile_stat = []\n",
    "for i in range(len(mobile_layers)):\n",
    "    layer_stats, layer_mapping = run_timeloop_mapper(\n",
    "        ConfigRegistry.TETRIS_ARCH_DRAM_RED, ConfigRegistry.TETRIS_COMPONENTS_DIR,\n",
    "        ConfigRegistry.TETRIS_ARCH_CONSTRAINTS,\n",
    "        ConfigRegistry.TETRIS_MAP_CONSTRAINTS,\n",
    "        mobile_layers[i+1], ConfigRegistry.DEFAULT_MAPPER_SETTING\n",
    "    )\n",
    "    mobile_stat.append(layer_stats)"
   ]
  },
  {
   "cell_type": "code",
   "execution_count": null,
   "id": "5c4dc4ca",
   "metadata": {},
   "outputs": [],
   "source": [
    "mobile_total_compute = 0\n",
    "mobile_total_cycle = 0\n",
    "mobile_total_energy = 0\n",
    "\n",
    "for stat in mobile_stat:\n",
    "    compute, cycle, energy, energy_per_compute = parse_stat(stat)\n",
    "    if compute is not None:\n",
    "        mobile_total_compute += compute\n",
    "        mobile_total_cycle += cycle\n",
    "        mobile_total_energy += energy\n",
    "\n",
    "print(f\"Mobile Net Total Compute:\", mobile_total_compute)\n",
    "print(f\"Mobile Net Total Cycle:\", mobile_total_cycle)\n",
    "print(f\"Mobile Net Total Energy:\", mobile_total_energy)\n",
    "print(f\"Mobile Net Energy / Computer pJ / Compute\", mobile_total_energy / mobile_total_compute * 10 ** (12))"
   ]
  },
  {
   "cell_type": "markdown",
   "id": "5ef028f8",
   "metadata": {},
   "source": [
    "### Dense Net"
   ]
  },
  {
   "cell_type": "code",
   "execution_count": null,
   "id": "57773f3e",
   "metadata": {},
   "outputs": [],
   "source": [
    "dense_layers = ConfigRegistry.DENSE_NET_LAYERS \n",
    "dense_stat = []\n",
    "for i in range(len(dense_layers)):\n",
    "    layer_stats, layer_mapping = run_timeloop_mapper(\n",
    "        ConfigRegistry.TETRIS_ARCH_DRAM_RED, ConfigRegistry.TETRIS_COMPONENTS_DIR,\n",
    "        ConfigRegistry.TETRIS_ARCH_CONSTRAINTS,\n",
    "        ConfigRegistry.TETRIS_MAP_CONSTRAINTS,\n",
    "        dense_layers[i+1], ConfigRegistry.DEFAULT_MAPPER_SETTING\n",
    "    )\n",
    "    dense_stat.append(layer_stats)"
   ]
  },
  {
   "cell_type": "code",
   "execution_count": null,
   "id": "94da60f1",
   "metadata": {},
   "outputs": [],
   "source": [
    "dense_total_compute = 0\n",
    "dense_total_cycle = 0\n",
    "dense_total_energy = 0\n",
    "\n",
    "for stat in dense_stat:\n",
    "    compute, cycle, energy, energy_per_compute = parse_stat(stat)\n",
    "    dense_total_compute += compute\n",
    "    dense_total_cycle += cycle\n",
    "    dense_total_energy += energy\n",
    "\n",
    "print(f\"Dense Net Total Compute:\", dense_total_compute)\n",
    "print(f\"Dense Net Total Cycle:\", dense_total_cycle)\n",
    "print(f\"Dense Net Total Energy:\", dense_total_energy)\n",
    "print(f\"Dense Net Energy / Computer pJ / Compute\", dense_total_energy / dense_total_compute * 10 ** (12))"
   ]
  }
 ],
 "metadata": {
  "kernelspec": {
   "display_name": "Python 3 (ipykernel)",
   "language": "python",
   "name": "python3"
  },
  "language_info": {
   "codemirror_mode": {
    "name": "ipython",
    "version": 3
   },
   "file_extension": ".py",
   "mimetype": "text/x-python",
   "name": "python",
   "nbconvert_exporter": "python",
   "pygments_lexer": "ipython3",
   "version": "3.8.10"
  }
 },
 "nbformat": 4,
 "nbformat_minor": 5
}
